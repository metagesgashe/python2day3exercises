{
 "cells": [
  {
   "cell_type": "markdown",
   "metadata": {},
   "source": [
    "Exercise 1: \n",
    "\n",
    "Write a function that accepts two parameters: a city name and a country name. the function should return a single string of the form City, Country like <i>Anchorage, United States</i>. \n",
    "\n",
    "Using a doctest method, write a test case and make sure your test passes.\n"
   ]
  },
  {
   "cell_type": "code",
   "execution_count": 15,
   "metadata": {},
   "outputs": [],
   "source": [
    "def function_name(city, country):\n",
    "    \"\"\"returns City, Country info\n",
    "    >>> function_name(\"Anchorage\", \"United States\")\n",
    "    'Anchorage, United States'\n",
    "    \"\"\"\n",
    "    \n",
    "    address = f\"{city}, {country}\"\n",
    "    \n",
    "    return address.title()\n",
    "\n"
   ]
  },
  {
   "cell_type": "code",
   "execution_count": 17,
   "metadata": {},
   "outputs": [
    {
     "data": {
      "text/plain": [
       "TestResults(failed=0, attempted=1)"
      ]
     },
     "execution_count": 17,
     "metadata": {},
     "output_type": "execute_result"
    }
   ],
   "source": [
    "import doctest\n",
    "doctest.testmod()"
   ]
  },
  {
   "cell_type": "markdown",
   "metadata": {},
   "source": [
    "Exercise 2:\n",
    "\n",
    "Modify your function from Exercise 1 so it requires a third parameter, population. It should now return a signle string of the form City, Country - population xxx, such as <i>\"Anchorage, United States - population 288,000\"</i>. Run your test again and make sure it fails.\n",
    "\n",
    "Modify the function so the population parameter is optional. Run your previous test case and make sure it passes this time.\n",
    "\n",
    "Write a second test that verifies you can call your function with the values <i>Anchorage, United States,and 288000</i>. Run the test and make sure all your test cases pass."
   ]
  },
  {
   "cell_type": "code",
   "execution_count": 26,
   "metadata": {},
   "outputs": [],
   "source": [
    "def function_name(city, country, population):\n",
    "    \"\"\"returns City, Country-populatio xxx\n",
    "    >>> function_name(\"Anchorage\", \"United States\", \"population 288,000\")\n",
    "    'Anchorage, United States-population 288,000'\n",
    "    \"\"\"\n",
    "    \n",
    "    address = f\"{city}, {country}\"\n",
    "    \n",
    "    return address.title()"
   ]
  },
  {
   "cell_type": "code",
   "execution_count": 27,
   "metadata": {},
   "outputs": [
    {
     "name": "stdout",
     "output_type": "stream",
     "text": [
      "**********************************************************************\n",
      "File \"__main__\", line 3, in __main__.function_name\n",
      "Failed example:\n",
      "    function_name(\"Anchorage\", \"United States\", \"population 288,000\")\n",
      "Expected:\n",
      "    'Anchorage, United States-population 288,000'\n",
      "Got:\n",
      "    'Anchorage, United States'\n",
      "**********************************************************************\n",
      "1 items had failures:\n",
      "   1 of   1 in __main__.function_name\n",
      "***Test Failed*** 1 failures.\n"
     ]
    },
    {
     "data": {
      "text/plain": [
       "TestResults(failed=1, attempted=1)"
      ]
     },
     "execution_count": 27,
     "metadata": {},
     "output_type": "execute_result"
    }
   ],
   "source": [
    "import doctest\n",
    "doctest.testmod()"
   ]
  },
  {
   "cell_type": "code",
   "execution_count": 53,
   "metadata": {},
   "outputs": [],
   "source": [
    "def function_name(city, country, population = \"\"):\n",
    "    \"\"\"returns City, Country-populatio xxx\n",
    "    >>> function_name(\"Anchorage\", \"United States\", \"population 288,000\")\n",
    "    'Anchorage, United States-Population 288,000'\n",
    "    >>> function_name(\"Anchorage\", \"United States\")\n",
    "    'Anchorage, United States'\n",
    "    \"\"\"\n",
    "    if population:\n",
    "        address = f\"{city}, {country}-{population}\"\n",
    "    else:\n",
    "        address = f\"{city}, {country}\"\n",
    "        \n",
    "    return address.title()"
   ]
  },
  {
   "cell_type": "code",
   "execution_count": 54,
   "metadata": {},
   "outputs": [
    {
     "data": {
      "text/plain": [
       "TestResults(failed=0, attempted=2)"
      ]
     },
     "execution_count": 54,
     "metadata": {},
     "output_type": "execute_result"
    }
   ],
   "source": [
    "import doctest\n",
    "doctest.testmod()"
   ]
  },
  {
   "cell_type": "markdown",
   "metadata": {},
   "source": [
    "Exercise 3: \n",
    "\n",
    "Save above function in <b>city_functions.py</b>. Write test cases for the function using unittest module and save it to a file called <b>test_cities.py</b>. \n",
    "\n",
    "    Write a method called test_city_country() to verify that calling your function with city and country parameters results in the correct string. \n",
    "\n",
    "    Write a second test called test_city_country_population() that verifies you can call your function with city, country, and population parameters results in the correct string. \n",
    "    \n",
    "Run test_cities.py and make sure all your tests pass."
   ]
  },
  {
   "cell_type": "code",
   "execution_count": 16,
   "metadata": {},
   "outputs": [
    {
     "ename": "ModuleNotFoundError",
     "evalue": "No module named 'test_cities'",
     "output_type": "error",
     "traceback": [
      "\u001b[1;31m---------------------------------------------------------------------------\u001b[0m",
      "\u001b[1;31mModuleNotFoundError\u001b[0m                       Traceback (most recent call last)",
      "\u001b[1;32m<ipython-input-16-7d5f77f49ce8>\u001b[0m in \u001b[0;36m<module>\u001b[1;34m\u001b[0m\n\u001b[0;32m      1\u001b[0m \u001b[1;32mimport\u001b[0m \u001b[0munittest\u001b[0m\u001b[1;33m\u001b[0m\u001b[1;33m\u001b[0m\u001b[0m\n\u001b[1;32m----> 2\u001b[1;33m \u001b[1;32mfrom\u001b[0m \u001b[0mtest_cities\u001b[0m \u001b[1;32mimport\u001b[0m \u001b[0mtest_cities\u001b[0m\u001b[1;33m\u001b[0m\u001b[1;33m\u001b[0m\u001b[0m\n\u001b[0m\u001b[0;32m      3\u001b[0m \u001b[1;32mdef\u001b[0m \u001b[0mtest_city_country\u001b[0m\u001b[1;33m(\u001b[0m\u001b[0mself\u001b[0m\u001b[1;33m)\u001b[0m\u001b[1;33m:\u001b[0m\u001b[1;33m\u001b[0m\u001b[1;33m\u001b[0m\u001b[0m\n\u001b[0;32m      4\u001b[0m     \u001b[0maddress\u001b[0m \u001b[1;33m=\u001b[0m \u001b[1;34mf\"{city}, {country}\"\u001b[0m\u001b[1;33m\u001b[0m\u001b[1;33m\u001b[0m\u001b[0m\n\u001b[0;32m      5\u001b[0m     \u001b[0mself\u001b[0m\u001b[1;33m.\u001b[0m\u001b[0massertTrue\u001b[0m\u001b[1;33m(\u001b[0m\u001b[0maddress\u001b[0m\u001b[1;33m.\u001b[0m\u001b[0mtitle\u001b[0m\u001b[1;33m(\u001b[0m\u001b[1;33m)\u001b[0m\u001b[1;33m,\u001b[0m \u001b[1;34m'Anchorage, United States'\u001b[0m\u001b[1;33m)\u001b[0m\u001b[1;33m\u001b[0m\u001b[1;33m\u001b[0m\u001b[0m\n",
      "\u001b[1;31mModuleNotFoundError\u001b[0m: No module named 'test_cities'"
     ]
    }
   ],
   "source": [
    "import unittest\n",
    "from test_cities import test_cities\n",
    "def test_city_country(self):\n",
    "    address = f\"{city}, {country}\"\n",
    "    self.assertTrue(address.title(), 'Anchorage, United States')\n",
    "def test_city_country_population(self):\n",
    "    if population:\n",
    "        address = f\"{city}, {country}-{population}\"\n",
    "        self.assertTrue(address.title(), 'Anchorage, United States-population 288,000')\n",
    "    else:\n",
    "        address = f\"{city}, {country}\"\n",
    "        self.assertTrue(address.title(), 'Anchorage, United States')\n",
    "        \n",
    "    \n",
    "    "
   ]
  },
  {
   "cell_type": "markdown",
   "metadata": {},
   "source": [
    "Exercise 4:\n",
    "\n",
    "Write a class called Employee with private attributes to store a first name, a last name, and an annual salary. Write a method called give_raise() that adds 2% (of employee's current annual salary) to the annual salary by default but also accepts a different raise rate.\n",
    "\n",
    "Write a test case for Employee. Write two test methods, <b>test_give_default_raise()</b> and <b>test_give_custom_raise()</b>. Use the <b>setUp()</b> method so you don't have to create a new employee instance in each test method. \n",
    "\n",
    "Run your test case and make sure all tests pass.\n",
    "    \n",
    "    "
   ]
  },
  {
   "cell_type": "markdown",
   "metadata": {},
   "source": [
    "Exercise 5: \n",
    "\n"
   ]
  }
 ],
 "metadata": {
  "kernelspec": {
   "display_name": "Python 3",
   "language": "python",
   "name": "python3"
  },
  "language_info": {
   "codemirror_mode": {
    "name": "ipython",
    "version": 3
   },
   "file_extension": ".py",
   "mimetype": "text/x-python",
   "name": "python",
   "nbconvert_exporter": "python",
   "pygments_lexer": "ipython3",
   "version": "3.8.3"
  }
 },
 "nbformat": 4,
 "nbformat_minor": 4
}
